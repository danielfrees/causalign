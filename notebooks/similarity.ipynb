{
 "cells": [
  {
   "cell_type": "markdown",
   "metadata": {},
   "source": [
    "# Experiments \n",
    "\n",
    "Experimenting with training/inference using the `causalsent` package. Currently in use for testing \n",
    "package implementations/ debugging. "
   ]
  },
  {
   "cell_type": "code",
   "execution_count": null,
   "metadata": {},
   "outputs": [
    {
     "name": "stdout",
     "output_type": "stream",
     "text": [
      "TOP_DIR: /Users/danielfrees/Desktop/causalign\n"
     ]
    },
    {
     "name": "stderr",
     "output_type": "stream",
     "text": [
      "/Users/danielfrees/miniconda3/envs/causalign/lib/python3.11/site-packages/tqdm/auto.py:21: TqdmWarning: IProgress not found. Please update jupyter and ipywidgets. See https://ipywidgets.readthedocs.io/en/stable/user_install.html\n",
      "  from .autonotebook import tqdm as notebook_tqdm\n"
     ]
    }
   ],
   "source": [
    "import os\n",
    "import sys\n",
    "TOP_DIR = os.path.abspath(os.path.join(os.getcwd(), '..'))\n",
    "print(\"TOP_DIR:\", TOP_DIR)\n",
    "if TOP_DIR not in sys.path:\n",
    "    sys.path.insert(0, TOP_DIR)\n",
    "from causalsent.modules.bansal_bert_pretrained import MSMarcoBERTModel\n",
    "from transformers import AutoTokenizer\n",
    "import torch"
   ]
  },
  {
   "cell_type": "code",
   "execution_count": 2,
   "metadata": {},
   "outputs": [
    {
     "name": "stdout",
     "output_type": "stream",
     "text": [
      "Positive score: -0.010135376825928688\n",
      "Negative score: -0.0028239255771040916\n",
      "Loss: 0.010135376825928688\n"
     ]
    }
   ],
   "source": [
    "GAMMA = 0.995\n",
    "model = MSMarcoBERTModel(gamma=GAMMA)\n",
    "tokenizer = AutoTokenizer.from_pretrained('sentence-transformers/msmarco-distilbert-base-v3')\n",
    "\n",
    "device = torch.device(\"cuda\" if torch.cuda.is_available() else \"mps\" if torch.has_mps else \"cpu\")\n",
    "model.to(device)\n",
    "\n",
    "# Simple toy example\n",
    "texts_x = [\"The cat sat on the mat.\", \"A dog barked at the stranger.\", \"The quick brown fox jumps over the lazy dog.\"]\n",
    "texts_y = [\"The mat had a cat sitting on it.\", \"A stranger was barked at by a dog.\", \"The fox jumps quickly over a lazy dog.\"]\n",
    "tokenized_x = tokenizer(texts_x, padding=True, truncation=True, return_tensors=\"pt\")\n",
    "tokenized_y = tokenizer(texts_y, padding=True, truncation=True, return_tensors=\"pt\")\n",
    "\n",
    "device = next(model.parameters()).device\n",
    "tokenized_x = {key: val.to(device) for key, val in tokenized_x.items()}\n",
    "tokenized_y = {key: val.to(device) for key, val in tokenized_y.items()}\n",
    "\n",
    "# Run forward pass\n",
    "positives, negatives, loss = model(tokenized_x, tokenized_y)\n",
    "\n",
    "# Display the results\n",
    "print(f\"Positive score: {positives.item()}\")\n",
    "print(f\"Negative score: {negatives.item()}\")\n",
    "print(f\"Loss: {loss.item()}\")"
   ]
  },
  {
   "cell_type": "code",
   "execution_count": null,
   "metadata": {},
   "outputs": [],
   "source": []
  }
 ],
 "metadata": {
  "kernelspec": {
   "display_name": "causalign",
   "language": "python",
   "name": "python3"
  },
  "language_info": {
   "codemirror_mode": {
    "name": "ipython",
    "version": 3
   },
   "file_extension": ".py",
   "mimetype": "text/x-python",
   "name": "python",
   "nbconvert_exporter": "python",
   "pygments_lexer": "ipython3",
   "version": "3.11.10"
  }
 },
 "nbformat": 4,
 "nbformat_minor": 2
}
